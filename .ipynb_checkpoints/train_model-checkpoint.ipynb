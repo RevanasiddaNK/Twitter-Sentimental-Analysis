{
 "cells": [
  {
   "cell_type": "markdown",
   "id": "9a11dc04-c998-4af7-b577-29fb31a33216",
   "metadata": {},
   "source": [
    "### Importing Dependencies"
   ]
  },
  {
   "cell_type": "code",
   "execution_count": 1,
   "id": "eacd5f3a-2fb2-4b4e-8ea9-8d1f2d05a71b",
   "metadata": {},
   "outputs": [],
   "source": [
    "import numpy as np\n",
    "import pandas as pd\n",
    "import re\n",
    "import nltk\n",
    "#nltk.download(\"stopwords\")\n",
    "from nltk.corpus import stopwords\n",
    "from nltk.stem.porter import PorterStemmer\n",
    "from nltk.stem import WordNetLemmatizer\n",
    "from sklearn.feature_extraction.text import TfidfVectorizer\n",
    "from sklearn.model_selection import train_test_split\n",
    "from sklearn.linear_model import LogisticRegression\n",
    "from sklearn.metrics import accuracy_score"
   ]
  },
  {
   "cell_type": "markdown",
   "id": "32f1a97f-8540-4dab-8dd6-a30b547f367a",
   "metadata": {},
   "source": [
    "### Importing Twitter sentiment dataset"
   ]
  },
  {
   "cell_type": "code",
   "execution_count": 22,
   "id": "c5560a32-36ee-4861-be43-45f06a194625",
   "metadata": {},
   "outputs": [
    {
     "data": {
      "text/html": [
       "<div>\n",
       "<style scoped>\n",
       "    .dataframe tbody tr th:only-of-type {\n",
       "        vertical-align: middle;\n",
       "    }\n",
       "\n",
       "    .dataframe tbody tr th {\n",
       "        vertical-align: top;\n",
       "    }\n",
       "\n",
       "    .dataframe thead th {\n",
       "        text-align: right;\n",
       "    }\n",
       "</style>\n",
       "<table border=\"1\" class=\"dataframe\">\n",
       "  <thead>\n",
       "    <tr style=\"text-align: right;\">\n",
       "      <th></th>\n",
       "      <th>target</th>\n",
       "      <th>id</th>\n",
       "      <th>date</th>\n",
       "      <th>flag</th>\n",
       "      <th>user</th>\n",
       "      <th>text</th>\n",
       "    </tr>\n",
       "  </thead>\n",
       "  <tbody>\n",
       "    <tr>\n",
       "      <th>0</th>\n",
       "      <td>0</td>\n",
       "      <td>1467810369</td>\n",
       "      <td>Mon Apr 06 22:19:45 PDT 2009</td>\n",
       "      <td>NO_QUERY</td>\n",
       "      <td>_TheSpecialOne_</td>\n",
       "      <td>@switchfoot http://twitpic.com/2y1zl - Awww, t...</td>\n",
       "    </tr>\n",
       "    <tr>\n",
       "      <th>1</th>\n",
       "      <td>0</td>\n",
       "      <td>1467810672</td>\n",
       "      <td>Mon Apr 06 22:19:49 PDT 2009</td>\n",
       "      <td>NO_QUERY</td>\n",
       "      <td>scotthamilton</td>\n",
       "      <td>is upset that he can't update his Facebook by ...</td>\n",
       "    </tr>\n",
       "    <tr>\n",
       "      <th>2</th>\n",
       "      <td>0</td>\n",
       "      <td>1467810917</td>\n",
       "      <td>Mon Apr 06 22:19:53 PDT 2009</td>\n",
       "      <td>NO_QUERY</td>\n",
       "      <td>mattycus</td>\n",
       "      <td>@Kenichan I dived many times for the ball. Man...</td>\n",
       "    </tr>\n",
       "    <tr>\n",
       "      <th>3</th>\n",
       "      <td>0</td>\n",
       "      <td>1467811184</td>\n",
       "      <td>Mon Apr 06 22:19:57 PDT 2009</td>\n",
       "      <td>NO_QUERY</td>\n",
       "      <td>ElleCTF</td>\n",
       "      <td>my whole body feels itchy and like its on fire</td>\n",
       "    </tr>\n",
       "    <tr>\n",
       "      <th>4</th>\n",
       "      <td>0</td>\n",
       "      <td>1467811193</td>\n",
       "      <td>Mon Apr 06 22:19:57 PDT 2009</td>\n",
       "      <td>NO_QUERY</td>\n",
       "      <td>Karoli</td>\n",
       "      <td>@nationwideclass no, it's not behaving at all....</td>\n",
       "    </tr>\n",
       "  </tbody>\n",
       "</table>\n",
       "</div>"
      ],
      "text/plain": [
       "   target          id                          date      flag  \\\n",
       "0       0  1467810369  Mon Apr 06 22:19:45 PDT 2009  NO_QUERY   \n",
       "1       0  1467810672  Mon Apr 06 22:19:49 PDT 2009  NO_QUERY   \n",
       "2       0  1467810917  Mon Apr 06 22:19:53 PDT 2009  NO_QUERY   \n",
       "3       0  1467811184  Mon Apr 06 22:19:57 PDT 2009  NO_QUERY   \n",
       "4       0  1467811193  Mon Apr 06 22:19:57 PDT 2009  NO_QUERY   \n",
       "\n",
       "              user                                               text  \n",
       "0  _TheSpecialOne_  @switchfoot http://twitpic.com/2y1zl - Awww, t...  \n",
       "1    scotthamilton  is upset that he can't update his Facebook by ...  \n",
       "2         mattycus  @Kenichan I dived many times for the ball. Man...  \n",
       "3          ElleCTF    my whole body feels itchy and like its on fire   \n",
       "4           Karoli  @nationwideclass no, it's not behaving at all....  "
      ]
     },
     "execution_count": 22,
     "metadata": {},
     "output_type": "execute_result"
    }
   ],
   "source": [
    "column_names = ['target', 'id', 'date', 'flag', 'user', 'text']\n",
    "twitter_data = pd.read_csv('../twitter_data.csv', names=column_names, encoding = 'ISO-8859-1')\n",
    "twitter_data.shape\n",
    "twitter_data.head()"
   ]
  },
  {
   "cell_type": "code",
   "execution_count": 23,
   "id": "4183a19a-b8f2-49c7-9637-902444240909",
   "metadata": {},
   "outputs": [
    {
     "data": {
      "text/plain": [
       "target\n",
       "0    800000\n",
       "4    800000\n",
       "Name: count, dtype: int64"
      ]
     },
     "execution_count": 23,
     "metadata": {},
     "output_type": "execute_result"
    }
   ],
   "source": [
    "twitter_data.isnull().sum()\n",
    "twitter_data['target'].value_counts()"
   ]
  },
  {
   "cell_type": "code",
   "execution_count": 24,
   "id": "d7e5f3b5-1b04-4b45-8f71-4faa2144f09b",
   "metadata": {},
   "outputs": [],
   "source": [
    "#convert target \"4\" to \"1\" which labels positive\n",
    "twitter_data.replace( {'target' : {4:1}}, inplace=True)"
   ]
  },
  {
   "cell_type": "markdown",
   "id": "27f0a3f2-a323-4dc4-8c54-bbbaf2229cc3",
   "metadata": {},
   "source": [
    "##### 1 -> Positive Tweet and 0 -> Negative Tweet"
   ]
  },
  {
   "cell_type": "code",
   "execution_count": 2,
   "id": "f4f851fe-7ec5-42d1-9723-f6153c99ea01",
   "metadata": {},
   "outputs": [],
   "source": [
    "def lemmatization(content):\n",
    "    lemmatizer = WordNetLemmatizer()\n",
    "    content = re.sub('[^a-zA-Z]', ' ', content)  # Remove non-alphabetic characters\n",
    "    content = content.lower()  # Convert to lowercase\n",
    "    tokens = content.split()  # Tokenize\n",
    "    stop_words = set(stopwords.words(\"english\"))\n",
    "    tokens = [token for token in tokens if token not in stop_words]  # Remove stop words\n",
    "    lemmatized_tokens = [lemmatizer.lemmatize(token) for token in tokens]  # Lemmatize\n",
    "    return ' '.join(lemmatized_tokens)  # Return as a single string"
   ]
  },
  {
   "cell_type": "code",
   "execution_count": null,
   "id": "6fc23270-c749-41ea-9a0a-fcb759ebe0ec",
   "metadata": {},
   "outputs": [],
   "source": [
    "twitter_data['lemmatized_content'] = twitter_data['text'].apply(lemmatization)"
   ]
  },
  {
   "cell_type": "code",
   "execution_count": 3,
   "id": "e80de02e-5e52-49e6-bf53-0d7610c79adc",
   "metadata": {},
   "outputs": [
    {
     "data": {
      "text/html": [
       "<div>\n",
       "<style scoped>\n",
       "    .dataframe tbody tr th:only-of-type {\n",
       "        vertical-align: middle;\n",
       "    }\n",
       "\n",
       "    .dataframe tbody tr th {\n",
       "        vertical-align: top;\n",
       "    }\n",
       "\n",
       "    .dataframe thead th {\n",
       "        text-align: right;\n",
       "    }\n",
       "</style>\n",
       "<table border=\"1\" class=\"dataframe\">\n",
       "  <thead>\n",
       "    <tr style=\"text-align: right;\">\n",
       "      <th></th>\n",
       "      <th>target</th>\n",
       "      <th>id</th>\n",
       "      <th>date</th>\n",
       "      <th>flag</th>\n",
       "      <th>user</th>\n",
       "      <th>text</th>\n",
       "      <th>lemmatized_content</th>\n",
       "    </tr>\n",
       "  </thead>\n",
       "  <tbody>\n",
       "    <tr>\n",
       "      <th>0</th>\n",
       "      <td>0</td>\n",
       "      <td>1467810369</td>\n",
       "      <td>Mon Apr 06 22:19:45 PDT 2009</td>\n",
       "      <td>NO_QUERY</td>\n",
       "      <td>_TheSpecialOne_</td>\n",
       "      <td>@switchfoot http://twitpic.com/2y1zl - Awww, t...</td>\n",
       "      <td>switchfoot http twitpic com zl awww bummer sho...</td>\n",
       "    </tr>\n",
       "    <tr>\n",
       "      <th>1</th>\n",
       "      <td>0</td>\n",
       "      <td>1467810672</td>\n",
       "      <td>Mon Apr 06 22:19:49 PDT 2009</td>\n",
       "      <td>NO_QUERY</td>\n",
       "      <td>scotthamilton</td>\n",
       "      <td>is upset that he can't update his Facebook by ...</td>\n",
       "      <td>upset update facebook texting might cry result...</td>\n",
       "    </tr>\n",
       "    <tr>\n",
       "      <th>2</th>\n",
       "      <td>0</td>\n",
       "      <td>1467810917</td>\n",
       "      <td>Mon Apr 06 22:19:53 PDT 2009</td>\n",
       "      <td>NO_QUERY</td>\n",
       "      <td>mattycus</td>\n",
       "      <td>@Kenichan I dived many times for the ball. Man...</td>\n",
       "      <td>kenichan dived many time ball managed save res...</td>\n",
       "    </tr>\n",
       "    <tr>\n",
       "      <th>3</th>\n",
       "      <td>0</td>\n",
       "      <td>1467811184</td>\n",
       "      <td>Mon Apr 06 22:19:57 PDT 2009</td>\n",
       "      <td>NO_QUERY</td>\n",
       "      <td>ElleCTF</td>\n",
       "      <td>my whole body feels itchy and like its on fire</td>\n",
       "      <td>whole body feel itchy like fire</td>\n",
       "    </tr>\n",
       "    <tr>\n",
       "      <th>4</th>\n",
       "      <td>0</td>\n",
       "      <td>1467811193</td>\n",
       "      <td>Mon Apr 06 22:19:57 PDT 2009</td>\n",
       "      <td>NO_QUERY</td>\n",
       "      <td>Karoli</td>\n",
       "      <td>@nationwideclass no, it's not behaving at all....</td>\n",
       "      <td>nationwideclass behaving mad see</td>\n",
       "    </tr>\n",
       "  </tbody>\n",
       "</table>\n",
       "</div>"
      ],
      "text/plain": [
       "   target          id                          date      flag  \\\n",
       "0       0  1467810369  Mon Apr 06 22:19:45 PDT 2009  NO_QUERY   \n",
       "1       0  1467810672  Mon Apr 06 22:19:49 PDT 2009  NO_QUERY   \n",
       "2       0  1467810917  Mon Apr 06 22:19:53 PDT 2009  NO_QUERY   \n",
       "3       0  1467811184  Mon Apr 06 22:19:57 PDT 2009  NO_QUERY   \n",
       "4       0  1467811193  Mon Apr 06 22:19:57 PDT 2009  NO_QUERY   \n",
       "\n",
       "              user                                               text  \\\n",
       "0  _TheSpecialOne_  @switchfoot http://twitpic.com/2y1zl - Awww, t...   \n",
       "1    scotthamilton  is upset that he can't update his Facebook by ...   \n",
       "2         mattycus  @Kenichan I dived many times for the ball. Man...   \n",
       "3          ElleCTF    my whole body feels itchy and like its on fire    \n",
       "4           Karoli  @nationwideclass no, it's not behaving at all....   \n",
       "\n",
       "                                  lemmatized_content  \n",
       "0  switchfoot http twitpic com zl awww bummer sho...  \n",
       "1  upset update facebook texting might cry result...  \n",
       "2  kenichan dived many time ball managed save res...  \n",
       "3                    whole body feel itchy like fire  \n",
       "4                   nationwideclass behaving mad see  "
      ]
     },
     "execution_count": 3,
     "metadata": {},
     "output_type": "execute_result"
    }
   ],
   "source": [
    "twitter_data = pd.read_csv('../twitter_data_cleaned.csv', encoding = 'ISO-8859-1')\n",
    "twitter_data.shape\n",
    "twitter_data.head()"
   ]
  },
  {
   "cell_type": "code",
   "execution_count": 4,
   "id": "4664e9af-93be-46aa-8d8f-a833db4a4be2",
   "metadata": {},
   "outputs": [
    {
     "data": {
      "text/plain": [
       "0    switchfoot http twitpic com zl awww bummer sho...\n",
       "1    upset update facebook texting might cry result...\n",
       "2    kenichan dived many time ball managed save res...\n",
       "3                      whole body feel itchy like fire\n",
       "4                     nationwideclass behaving mad see\n",
       "Name: lemmatized_content, dtype: object"
      ]
     },
     "execution_count": 4,
     "metadata": {},
     "output_type": "execute_result"
    }
   ],
   "source": [
    "twitter_data['lemmatized_content'].head()"
   ]
  },
  {
   "cell_type": "code",
   "execution_count": 5,
   "id": "67c6f053-0a6b-4c35-9068-152fc8f5b247",
   "metadata": {},
   "outputs": [
    {
     "data": {
      "text/plain": [
       "0    0\n",
       "1    0\n",
       "2    0\n",
       "3    0\n",
       "4    0\n",
       "Name: target, dtype: int64"
      ]
     },
     "execution_count": 5,
     "metadata": {},
     "output_type": "execute_result"
    }
   ],
   "source": [
    "twitter_data['target'].head()"
   ]
  },
  {
   "cell_type": "markdown",
   "id": "6ead98fa-d84f-49b4-828f-0e54f9264edc",
   "metadata": {},
   "source": [
    "### Splitting of data to train and test"
   ]
  },
  {
   "cell_type": "code",
   "execution_count": 6,
   "id": "84c1d74b-6f59-4e60-bdeb-d4d7ce186894",
   "metadata": {},
   "outputs": [
    {
     "name": "stdout",
     "output_type": "stream",
     "text": [
      "(1280000,) (320000,)\n"
     ]
    }
   ],
   "source": [
    "x = twitter_data['lemmatized_content']\n",
    "y = twitter_data['target'].astype(str)\n",
    "\n",
    "x_train, x_test, y_train, y_test = train_test_split(x, y, test_size=0.2, random_state=2)\n",
    "print(x_train.shape, x_test.shape)"
   ]
  },
  {
   "cell_type": "code",
   "execution_count": 7,
   "id": "54ae8f74-6d13-4f67-bcf2-16ec64255f8b",
   "metadata": {},
   "outputs": [],
   "source": [
    "x_train = x_train.fillna(\"\")\n",
    "x_test = x_test.fillna(\"\")"
   ]
  },
  {
   "cell_type": "markdown",
   "id": "64afffc9-b721-4667-9c2f-30d23561cacd",
   "metadata": {},
   "source": [
    "### converting textual data into numerical data"
   ]
  },
  {
   "cell_type": "code",
   "execution_count": 8,
   "id": "808f1a93-5909-4fdf-a173-0fd1eb2d1a66",
   "metadata": {},
   "outputs": [],
   "source": [
    "vectorizer = TfidfVectorizer(ngram_range=(1, 2))  # unigrams + bigrams"
   ]
  },
  {
   "cell_type": "code",
   "execution_count": 9,
   "id": "a03b579f-4be1-45b1-8d04-26879404c869",
   "metadata": {},
   "outputs": [],
   "source": [
    "x_train = vectorizer.fit_transform(x_train)\n",
    "x_test = vectorizer.transform(x_test)"
   ]
  },
  {
   "cell_type": "code",
   "execution_count": 14,
   "id": "bd857437-e0af-4909-be75-062af78235d5",
   "metadata": {},
   "outputs": [
    {
     "name": "stdout",
     "output_type": "stream",
     "text": [
      "  (0, 275637)\t0.3927239016616036\n",
      "  (0, 1229415)\t0.433267698555852\n",
      "  (0, 276820)\t0.8112009852384319\n",
      "  (1, 2235677)\t0.4799570481157655\n",
      "  (1, 4119394)\t0.3969282533630161\n",
      "  (1, 2237000)\t0.7823612935506116\n",
      "  (2, 2168873)\t0.3424673319539078\n",
      "  (2, 380331)\t0.12338417562718157\n",
      "  (2, 1208063)\t0.1515058744330477\n",
      "  (2, 876769)\t0.08934486250939139\n",
      "  (2, 3887479)\t0.16060178514869247\n",
      "  (2, 1363226)\t0.12032835002868905\n",
      "  (2, 1406912)\t0.09421667279884167\n",
      "  (2, 2532003)\t0.2622132556163107\n",
      "  (2, 3819600)\t0.09930498150054952\n",
      "  (2, 2168874)\t0.3424673319539078\n",
      "  (2, 381196)\t0.2662321065635793\n",
      "  (2, 1208370)\t0.2832435814927878\n",
      "  (2, 885069)\t0.25807426575254633\n",
      "  (2, 3888023)\t0.2853173576157468\n",
      "  (2, 1364533)\t0.2536714257382264\n",
      "  (2, 1411948)\t0.3328037237111846\n",
      "  (2, 2532040)\t0.3424673319539078\n",
      "  (3, 1926786)\t0.3273093227912266\n",
      "  (3, 2802167)\t0.24038336886137307\n",
      "  :\t:\n",
      "  (1279998, 2476203)\t0.18415284440182522\n",
      "  (1279998, 827736)\t0.28014484906908\n",
      "  (1279998, 2496698)\t0.27854731813361056\n",
      "  (1279998, 3238959)\t0.2493239762051518\n",
      "  (1279998, 2135858)\t0.30128167557906066\n",
      "  (1279998, 188895)\t0.2915691294166008\n",
      "  (1279998, 1575885)\t0.3141928442347223\n",
      "  (1279998, 2739802)\t0.31099422174152064\n",
      "  (1279998, 2476225)\t0.3344890902440556\n",
      "  (1279998, 188898)\t0.3442016364065155\n",
      "  (1279999, 3819600)\t0.1129943250781808\n",
      "  (1279999, 1775117)\t0.12202131816871259\n",
      "  (1279999, 1547199)\t0.14690832330738046\n",
      "  (1279999, 1167800)\t0.16550802303638223\n",
      "  (1279999, 3637146)\t0.17198539264977156\n",
      "  (1279999, 2443811)\t0.16272126898647118\n",
      "  (1279999, 250948)\t0.1695204586756855\n",
      "  (1279999, 2444775)\t0.28963877271882865\n",
      "  (1279999, 603578)\t0.33164082319582633\n",
      "  (1279999, 251887)\t0.30711300030429106\n",
      "  (1279999, 1776686)\t0.24353149676939403\n",
      "  (1279999, 1550093)\t0.29789617239238403\n",
      "  (1279999, 3637831)\t0.3272334951327317\n",
      "  (1279999, 1167921)\t0.37868122601727255\n",
      "  (1279999, 603589)\t0.3896769774358498\n"
     ]
    }
   ],
   "source": [
    "print(x_train)"
   ]
  },
  {
   "cell_type": "code",
   "execution_count": 15,
   "id": "32ade47e-f16e-4331-a54d-476e853159e8",
   "metadata": {},
   "outputs": [
    {
     "name": "stdout",
     "output_type": "stream",
     "text": [
      "  (0, 45273)\t0.20307191054987783\n",
      "  (0, 475214)\t0.25997186396788213\n",
      "  (0, 475217)\t0.277678768519101\n",
      "  (0, 1463739)\t0.08194681420233126\n",
      "  (0, 1470926)\t0.277678768519101\n",
      "  (0, 1775117)\t0.08695081137489943\n",
      "  (0, 1777141)\t0.14207729165174346\n",
      "  (0, 2020279)\t0.08543988037271541\n",
      "  (0, 2025668)\t0.19642498269668185\n",
      "  (0, 2477816)\t0.212943385015019\n",
      "  (0, 2477855)\t0.277678768519101\n",
      "  (0, 2546517)\t0.277678768519101\n",
      "  (0, 2694482)\t0.09112639958403607\n",
      "  (0, 2696451)\t0.19386258388769936\n",
      "  (0, 2842059)\t0.22668017755320455\n",
      "  (0, 2879160)\t0.1235048251116298\n",
      "  (0, 2879183)\t0.277678768519101\n",
      "  (0, 3060093)\t0.12370128555320235\n",
      "  (0, 3061260)\t0.25997186396788213\n",
      "  (0, 3420883)\t0.14233013166833886\n",
      "  (0, 3421575)\t0.25997186396788213\n",
      "  (0, 3591924)\t0.11033164682742876\n",
      "  (0, 3872378)\t0.1342852193320045\n",
      "  (0, 4007980)\t0.23048151514540383\n",
      "  (0, 4228669)\t0.11566166631021106\n",
      "  :\t:\n",
      "  (319997, 2438094)\t0.5085616169521757\n",
      "  (319997, 2539215)\t0.3011878170551462\n",
      "  (319998, 1406912)\t0.17297965615245975\n",
      "  (319998, 1785198)\t0.36445538154236623\n",
      "  (319998, 1785295)\t0.5010876607863773\n",
      "  (319998, 2020279)\t0.19346587570530455\n",
      "  (319998, 2022954)\t0.5541665714104613\n",
      "  (319998, 3084150)\t0.49156061243612176\n",
      "  (319999, 294064)\t0.196888046518105\n",
      "  (319999, 294495)\t0.3270577032860065\n",
      "  (319999, 601051)\t0.22335652993785934\n",
      "  (319999, 601224)\t0.3173813157581008\n",
      "  (319999, 1313779)\t0.17280312657234154\n",
      "  (319999, 1313975)\t0.30800934995998147\n",
      "  (319999, 1827712)\t0.18431720041150423\n",
      "  (319999, 1828571)\t0.3208297387398798\n",
      "  (319999, 2099250)\t0.15353478805700702\n",
      "  (319999, 2164240)\t0.1432896054485289\n",
      "  (319999, 2164429)\t0.3474194656266294\n",
      "  (319999, 2722413)\t0.11288305244592571\n",
      "  (319999, 2727592)\t0.28596813636346946\n",
      "  (319999, 3197767)\t0.12979363151081272\n",
      "  (319999, 3199501)\t0.29125691337109233\n",
      "  (319999, 4204461)\t0.108145282979571\n",
      "  (319999, 4208286)\t0.26327973819818573\n"
     ]
    }
   ],
   "source": [
    "print(x_test)"
   ]
  },
  {
   "cell_type": "markdown",
   "id": "98cf8c6f-d093-4d61-96d4-b39eb09963dc",
   "metadata": {},
   "source": [
    "### Training the Machine Learning model"
   ]
  },
  {
   "cell_type": "markdown",
   "id": "c9b64eb5-8963-400b-9925-311bd3390323",
   "metadata": {},
   "source": [
    "### 1. Logistic Regression and Evaluation \n"
   ]
  },
  {
   "cell_type": "code",
   "execution_count": 28,
   "id": "644bf90f-f7a3-456c-9486-cd72878661a6",
   "metadata": {},
   "outputs": [
    {
     "name": "stdout",
     "output_type": "stream",
     "text": [
      "LR train accuracy: 0.8528984375\n",
      "LR test accuracy: 0.793021875\n"
     ]
    }
   ],
   "source": [
    "lr_model = LogisticRegression(max_iter=1000)\n",
    "lr_model.fit(x_train, y_train)\n",
    "print(\"LR train accuracy:\", accuracy_score(y_train, lr_model.predict(x_train)))\n",
    "print(\"LR test accuracy:\", accuracy_score(y_test, lr_model.predict(x_test)))"
   ]
  },
  {
   "cell_type": "markdown",
   "id": "a33ee2aa-8bae-41cf-8007-b6503a03d704",
   "metadata": {},
   "source": [
    "### Saving the trained model"
   ]
  },
  {
   "cell_type": "code",
   "execution_count": 20,
   "id": "344a085b-35b6-43c2-aebb-dd1a0a6c9ce6",
   "metadata": {},
   "outputs": [],
   "source": [
    "import pickle"
   ]
  },
  {
   "cell_type": "code",
   "execution_count": 21,
   "id": "f55cf71d-ef44-46fa-a8df-e6a3d0f7a4b7",
   "metadata": {},
   "outputs": [],
   "source": [
    "filename = \"trained_model.sav\"\n",
    "pickle.dump(model, open(filename, 'wb'))"
   ]
  },
  {
   "cell_type": "markdown",
   "id": "4955bcaa-7ce6-4901-a5c4-4d2b6fd363ac",
   "metadata": {},
   "source": [
    "### using the saved model for future predictions"
   ]
  },
  {
   "cell_type": "code",
   "execution_count": 22,
   "id": "4402c150-8912-4973-b9a8-26f137754158",
   "metadata": {},
   "outputs": [],
   "source": [
    "#loading the saving model\n",
    "loaded_model = pickle.load(open('../Twitter-Sentimental-Analysis/trained_model.sav', 'rb')) "
   ]
  },
  {
   "cell_type": "code",
   "execution_count": 23,
   "id": "7fb39da6-2cf0-4d4f-bf5b-29f82bbec2a6",
   "metadata": {},
   "outputs": [
    {
     "name": "stdout",
     "output_type": "stream",
     "text": [
      "actual value :  4\n",
      "Positive Tweet\n"
     ]
    }
   ],
   "source": [
    "x_new = x_test[500]  # Works with csr_matrix\n",
    "print(\"actual value : \", y_test.iloc[500])  # pandas Series\n",
    "\n",
    "y_new = loaded_model.predict(x_new)\n",
    "\n",
    "if y_new[0] == 0:\n",
    "    print(\"Negative Tweet\")\n",
    "else:\n",
    "    print(\"Positive Tweet\")\n"
   ]
  },
  {
   "cell_type": "code",
   "execution_count": 24,
   "id": "9241a900-b235-4242-967f-d1527cb5ab5b",
   "metadata": {},
   "outputs": [],
   "source": [
    "def predict_sentiment_from_tweet(tweet, vectorizer, model):\n",
    "    tweet_vec = vectorizer.transform([tweet])  # use transform only\n",
    "    pred = model.predict(tweet_vec)\n",
    "    print(\"Predicted sentiment is:\", \"Positive\" if pred[0] == 1 else \"Negative\")"
   ]
  },
  {
   "cell_type": "code",
   "execution_count": 25,
   "id": "b37910f3-cdcd-4c19-b0fb-593262c8120f",
   "metadata": {},
   "outputs": [
    {
     "name": "stdout",
     "output_type": "stream",
     "text": [
      "Predicted sentiment is: Negative\n"
     ]
    }
   ],
   "source": [
    "tweet = \"For those who are interested, I have spoken for the first time in nine years on this podcast.I want to say sorry to employees of Kingfisher Airlines and also to set the record straight with facts and the truth.\"\n",
    "predict_sentiment_from_tweet(tweet, vectorizer, loaded_model)"
   ]
  },
  {
   "cell_type": "markdown",
   "id": "ade34803-4c55-4b0a-9b22-fad22813708d",
   "metadata": {},
   "source": [
    "### 2. Naive Bayesian model and Evaluation"
   ]
  },
  {
   "cell_type": "code",
   "execution_count": 27,
   "id": "53c69348-2162-4254-b469-f93d50c97923",
   "metadata": {},
   "outputs": [
    {
     "name": "stdout",
     "output_type": "stream",
     "text": [
      "NB test accuracy: 0.77956875\n"
     ]
    }
   ],
   "source": [
    "from sklearn.naive_bayes import MultinomialNB\n",
    "\n",
    "nb_model = MultinomialNB()\n",
    "nb_model.fit(x_train, y_train)\n",
    "\n",
    "nb_test_accuracy = accuracy_score(y_test, nb_model.predict(x_test))\n",
    "print(\"NB test accuracy:\", nb_test_accuracy)"
   ]
  },
  {
   "cell_type": "code",
   "execution_count": 29,
   "id": "6e694074-a8a9-46d0-9738-b0d62c09da97",
   "metadata": {},
   "outputs": [
    {
     "name": "stderr",
     "output_type": "stream",
     "text": [
      "warning: in the working copy of '.ipynb_checkpoints/train_model-checkpoint.ipynb', LF will be replaced by CRLF the next time Git touches it\n",
      "warning: in the working copy of 'train_model.ipynb', LF will be replaced by CRLF the next time Git touches it\n"
     ]
    },
    {
     "name": "stdout",
     "output_type": "stream",
     "text": [
      "[main 3ea1135] add Naive Bayesian model and Evaluation on twitter sentiment analysis\n",
      " 2 files changed, 102 insertions(+), 970 deletions(-)\n",
      "branch 'main' set up to track 'origin/main'.\n"
     ]
    },
    {
     "name": "stderr",
     "output_type": "stream",
     "text": [
      "To https://github.com/RevanasiddaNK/Twitter-Sentimental-Analysis.git\n",
      "   7c0cd05..3ea1135  main -> main\n"
     ]
    }
   ],
   "source": [
    "!git add .\n",
    "!git commit -m \"Save local changes before pulling\"\n",
    "!git pull origin main\n"
   ]
  }
 ],
 "metadata": {
  "kernelspec": {
   "display_name": "Python 3 (ipykernel)",
   "language": "python",
   "name": "python3"
  },
  "language_info": {
   "codemirror_mode": {
    "name": "ipython",
    "version": 3
   },
   "file_extension": ".py",
   "mimetype": "text/x-python",
   "name": "python",
   "nbconvert_exporter": "python",
   "pygments_lexer": "ipython3",
   "version": "3.12.4"
  }
 },
 "nbformat": 4,
 "nbformat_minor": 5
}
