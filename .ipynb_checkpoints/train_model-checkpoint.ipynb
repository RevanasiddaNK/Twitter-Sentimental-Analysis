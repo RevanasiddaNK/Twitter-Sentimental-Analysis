{
 "cells": [
  {
   "cell_type": "markdown",
   "id": "9a11dc04-c998-4af7-b577-29fb31a33216",
   "metadata": {},
   "source": [
    "### Importing Dependencies"
   ]
  },
  {
   "cell_type": "code",
   "execution_count": 1,
   "id": "eacd5f3a-2fb2-4b4e-8ea9-8d1f2d05a71b",
   "metadata": {},
   "outputs": [],
   "source": [
    "import numpy as np\n",
    "import pandas as pd\n",
    "import re\n",
    "import nltk\n",
    "#nltk.download(\"stopwords\")\n",
    "from nltk.corpus import stopwords\n",
    "from nltk.stem.porter import PorterStemmer\n",
    "from nltk.stem import WordNetLemmatizer\n",
    "from sklearn.feature_extraction.text import TfidfVectorizer\n",
    "from sklearn.model_selection import train_test_split\n",
    "from sklearn.linear_model import LogisticRegression\n",
    "from sklearn.metrics import accuracy_score"
   ]
  },
  {
   "cell_type": "markdown",
   "id": "32f1a97f-8540-4dab-8dd6-a30b547f367a",
   "metadata": {},
   "source": [
    "### Importing Twitter sentiment dataset"
   ]
  },
  {
   "cell_type": "code",
   "execution_count": 22,
   "id": "c5560a32-36ee-4861-be43-45f06a194625",
   "metadata": {},
   "outputs": [
    {
     "data": {
      "text/html": [
       "<div>\n",
       "<style scoped>\n",
       "    .dataframe tbody tr th:only-of-type {\n",
       "        vertical-align: middle;\n",
       "    }\n",
       "\n",
       "    .dataframe tbody tr th {\n",
       "        vertical-align: top;\n",
       "    }\n",
       "\n",
       "    .dataframe thead th {\n",
       "        text-align: right;\n",
       "    }\n",
       "</style>\n",
       "<table border=\"1\" class=\"dataframe\">\n",
       "  <thead>\n",
       "    <tr style=\"text-align: right;\">\n",
       "      <th></th>\n",
       "      <th>target</th>\n",
       "      <th>id</th>\n",
       "      <th>date</th>\n",
       "      <th>flag</th>\n",
       "      <th>user</th>\n",
       "      <th>text</th>\n",
       "    </tr>\n",
       "  </thead>\n",
       "  <tbody>\n",
       "    <tr>\n",
       "      <th>0</th>\n",
       "      <td>0</td>\n",
       "      <td>1467810369</td>\n",
       "      <td>Mon Apr 06 22:19:45 PDT 2009</td>\n",
       "      <td>NO_QUERY</td>\n",
       "      <td>_TheSpecialOne_</td>\n",
       "      <td>@switchfoot http://twitpic.com/2y1zl - Awww, t...</td>\n",
       "    </tr>\n",
       "    <tr>\n",
       "      <th>1</th>\n",
       "      <td>0</td>\n",
       "      <td>1467810672</td>\n",
       "      <td>Mon Apr 06 22:19:49 PDT 2009</td>\n",
       "      <td>NO_QUERY</td>\n",
       "      <td>scotthamilton</td>\n",
       "      <td>is upset that he can't update his Facebook by ...</td>\n",
       "    </tr>\n",
       "    <tr>\n",
       "      <th>2</th>\n",
       "      <td>0</td>\n",
       "      <td>1467810917</td>\n",
       "      <td>Mon Apr 06 22:19:53 PDT 2009</td>\n",
       "      <td>NO_QUERY</td>\n",
       "      <td>mattycus</td>\n",
       "      <td>@Kenichan I dived many times for the ball. Man...</td>\n",
       "    </tr>\n",
       "    <tr>\n",
       "      <th>3</th>\n",
       "      <td>0</td>\n",
       "      <td>1467811184</td>\n",
       "      <td>Mon Apr 06 22:19:57 PDT 2009</td>\n",
       "      <td>NO_QUERY</td>\n",
       "      <td>ElleCTF</td>\n",
       "      <td>my whole body feels itchy and like its on fire</td>\n",
       "    </tr>\n",
       "    <tr>\n",
       "      <th>4</th>\n",
       "      <td>0</td>\n",
       "      <td>1467811193</td>\n",
       "      <td>Mon Apr 06 22:19:57 PDT 2009</td>\n",
       "      <td>NO_QUERY</td>\n",
       "      <td>Karoli</td>\n",
       "      <td>@nationwideclass no, it's not behaving at all....</td>\n",
       "    </tr>\n",
       "  </tbody>\n",
       "</table>\n",
       "</div>"
      ],
      "text/plain": [
       "   target          id                          date      flag  \\\n",
       "0       0  1467810369  Mon Apr 06 22:19:45 PDT 2009  NO_QUERY   \n",
       "1       0  1467810672  Mon Apr 06 22:19:49 PDT 2009  NO_QUERY   \n",
       "2       0  1467810917  Mon Apr 06 22:19:53 PDT 2009  NO_QUERY   \n",
       "3       0  1467811184  Mon Apr 06 22:19:57 PDT 2009  NO_QUERY   \n",
       "4       0  1467811193  Mon Apr 06 22:19:57 PDT 2009  NO_QUERY   \n",
       "\n",
       "              user                                               text  \n",
       "0  _TheSpecialOne_  @switchfoot http://twitpic.com/2y1zl - Awww, t...  \n",
       "1    scotthamilton  is upset that he can't update his Facebook by ...  \n",
       "2         mattycus  @Kenichan I dived many times for the ball. Man...  \n",
       "3          ElleCTF    my whole body feels itchy and like its on fire   \n",
       "4           Karoli  @nationwideclass no, it's not behaving at all....  "
      ]
     },
     "execution_count": 22,
     "metadata": {},
     "output_type": "execute_result"
    }
   ],
   "source": [
    "column_names = ['target', 'id', 'date', 'flag', 'user', 'text']\n",
    "twitter_data = pd.read_csv('../twitter_data.csv', names=column_names, encoding = 'ISO-8859-1')\n",
    "twitter_data.shape\n",
    "twitter_data.head()"
   ]
  },
  {
   "cell_type": "code",
   "execution_count": 23,
   "id": "4183a19a-b8f2-49c7-9637-902444240909",
   "metadata": {},
   "outputs": [
    {
     "data": {
      "text/plain": [
       "target\n",
       "0    800000\n",
       "4    800000\n",
       "Name: count, dtype: int64"
      ]
     },
     "execution_count": 23,
     "metadata": {},
     "output_type": "execute_result"
    }
   ],
   "source": [
    "twitter_data.isnull().sum()\n",
    "twitter_data['target'].value_counts()"
   ]
  },
  {
   "cell_type": "code",
   "execution_count": 24,
   "id": "d7e5f3b5-1b04-4b45-8f71-4faa2144f09b",
   "metadata": {},
   "outputs": [],
   "source": [
    "#convert target \"4\" to \"1\" which labels positive\n",
    "twitter_data.replace( {'target' : {4:1}}, inplace=True)"
   ]
  },
  {
   "cell_type": "markdown",
   "id": "27f0a3f2-a323-4dc4-8c54-bbbaf2229cc3",
   "metadata": {},
   "source": [
    "##### 1 -> Positive Tweet and 0 -> Negative Tweet"
   ]
  },
  {
   "cell_type": "code",
   "execution_count": 2,
   "id": "f4f851fe-7ec5-42d1-9723-f6153c99ea01",
   "metadata": {},
   "outputs": [],
   "source": [
    "def lemmatization(content):\n",
    "    lemmatizer = WordNetLemmatizer()\n",
    "    content = re.sub('[^a-zA-Z]', ' ', content)  # Remove non-alphabetic characters\n",
    "    content = content.lower()  # Convert to lowercase\n",
    "    tokens = content.split()  # Tokenize\n",
    "    stop_words = set(stopwords.words(\"english\"))\n",
    "    tokens = [token for token in tokens if token not in stop_words]  # Remove stop words\n",
    "    lemmatized_tokens = [lemmatizer.lemmatize(token) for token in tokens]  # Lemmatize\n",
    "    return ' '.join(lemmatized_tokens)  # Return as a single string"
   ]
  },
  {
   "cell_type": "code",
   "execution_count": null,
   "id": "6fc23270-c749-41ea-9a0a-fcb759ebe0ec",
   "metadata": {},
   "outputs": [],
   "source": [
    "twitter_data['lemmatized_content'] = twitter_data['text'].apply(lemmatization)"
   ]
  },
  {
   "cell_type": "code",
   "execution_count": 2,
   "id": "e80de02e-5e52-49e6-bf53-0d7610c79adc",
   "metadata": {},
   "outputs": [
    {
     "data": {
      "text/html": [
       "<div>\n",
       "<style scoped>\n",
       "    .dataframe tbody tr th:only-of-type {\n",
       "        vertical-align: middle;\n",
       "    }\n",
       "\n",
       "    .dataframe tbody tr th {\n",
       "        vertical-align: top;\n",
       "    }\n",
       "\n",
       "    .dataframe thead th {\n",
       "        text-align: right;\n",
       "    }\n",
       "</style>\n",
       "<table border=\"1\" class=\"dataframe\">\n",
       "  <thead>\n",
       "    <tr style=\"text-align: right;\">\n",
       "      <th></th>\n",
       "      <th>target</th>\n",
       "      <th>id</th>\n",
       "      <th>date</th>\n",
       "      <th>flag</th>\n",
       "      <th>user</th>\n",
       "      <th>text</th>\n",
       "      <th>lemmatized_content</th>\n",
       "    </tr>\n",
       "  </thead>\n",
       "  <tbody>\n",
       "    <tr>\n",
       "      <th>0</th>\n",
       "      <td>0</td>\n",
       "      <td>1467810369</td>\n",
       "      <td>Mon Apr 06 22:19:45 PDT 2009</td>\n",
       "      <td>NO_QUERY</td>\n",
       "      <td>_TheSpecialOne_</td>\n",
       "      <td>@switchfoot http://twitpic.com/2y1zl - Awww, t...</td>\n",
       "      <td>switchfoot http twitpic com zl awww bummer sho...</td>\n",
       "    </tr>\n",
       "    <tr>\n",
       "      <th>1</th>\n",
       "      <td>0</td>\n",
       "      <td>1467810672</td>\n",
       "      <td>Mon Apr 06 22:19:49 PDT 2009</td>\n",
       "      <td>NO_QUERY</td>\n",
       "      <td>scotthamilton</td>\n",
       "      <td>is upset that he can't update his Facebook by ...</td>\n",
       "      <td>upset update facebook texting might cry result...</td>\n",
       "    </tr>\n",
       "    <tr>\n",
       "      <th>2</th>\n",
       "      <td>0</td>\n",
       "      <td>1467810917</td>\n",
       "      <td>Mon Apr 06 22:19:53 PDT 2009</td>\n",
       "      <td>NO_QUERY</td>\n",
       "      <td>mattycus</td>\n",
       "      <td>@Kenichan I dived many times for the ball. Man...</td>\n",
       "      <td>kenichan dived many time ball managed save res...</td>\n",
       "    </tr>\n",
       "    <tr>\n",
       "      <th>3</th>\n",
       "      <td>0</td>\n",
       "      <td>1467811184</td>\n",
       "      <td>Mon Apr 06 22:19:57 PDT 2009</td>\n",
       "      <td>NO_QUERY</td>\n",
       "      <td>ElleCTF</td>\n",
       "      <td>my whole body feels itchy and like its on fire</td>\n",
       "      <td>whole body feel itchy like fire</td>\n",
       "    </tr>\n",
       "    <tr>\n",
       "      <th>4</th>\n",
       "      <td>0</td>\n",
       "      <td>1467811193</td>\n",
       "      <td>Mon Apr 06 22:19:57 PDT 2009</td>\n",
       "      <td>NO_QUERY</td>\n",
       "      <td>Karoli</td>\n",
       "      <td>@nationwideclass no, it's not behaving at all....</td>\n",
       "      <td>nationwideclass behaving mad see</td>\n",
       "    </tr>\n",
       "  </tbody>\n",
       "</table>\n",
       "</div>"
      ],
      "text/plain": [
       "   target          id                          date      flag  \\\n",
       "0       0  1467810369  Mon Apr 06 22:19:45 PDT 2009  NO_QUERY   \n",
       "1       0  1467810672  Mon Apr 06 22:19:49 PDT 2009  NO_QUERY   \n",
       "2       0  1467810917  Mon Apr 06 22:19:53 PDT 2009  NO_QUERY   \n",
       "3       0  1467811184  Mon Apr 06 22:19:57 PDT 2009  NO_QUERY   \n",
       "4       0  1467811193  Mon Apr 06 22:19:57 PDT 2009  NO_QUERY   \n",
       "\n",
       "              user                                               text  \\\n",
       "0  _TheSpecialOne_  @switchfoot http://twitpic.com/2y1zl - Awww, t...   \n",
       "1    scotthamilton  is upset that he can't update his Facebook by ...   \n",
       "2         mattycus  @Kenichan I dived many times for the ball. Man...   \n",
       "3          ElleCTF    my whole body feels itchy and like its on fire    \n",
       "4           Karoli  @nationwideclass no, it's not behaving at all....   \n",
       "\n",
       "                                  lemmatized_content  \n",
       "0  switchfoot http twitpic com zl awww bummer sho...  \n",
       "1  upset update facebook texting might cry result...  \n",
       "2  kenichan dived many time ball managed save res...  \n",
       "3                    whole body feel itchy like fire  \n",
       "4                   nationwideclass behaving mad see  "
      ]
     },
     "execution_count": 2,
     "metadata": {},
     "output_type": "execute_result"
    }
   ],
   "source": [
    "twitter_data = pd.read_csv('../twitter_data_cleaned.csv', encoding = 'ISO-8859-1')\n",
    "twitter_data.shape\n",
    "twitter_data.head()"
   ]
  },
  {
   "cell_type": "code",
   "execution_count": 4,
   "id": "4664e9af-93be-46aa-8d8f-a833db4a4be2",
   "metadata": {},
   "outputs": [
    {
     "data": {
      "text/plain": [
       "0    switchfoot http twitpic com zl awww bummer sho...\n",
       "1    upset update facebook texting might cry result...\n",
       "2    kenichan dived many time ball managed save res...\n",
       "3                      whole body feel itchy like fire\n",
       "4                     nationwideclass behaving mad see\n",
       "Name: lemmatized_content, dtype: object"
      ]
     },
     "execution_count": 4,
     "metadata": {},
     "output_type": "execute_result"
    }
   ],
   "source": [
    "twitter_data['lemmatized_content'].head()"
   ]
  },
  {
   "cell_type": "code",
   "execution_count": 5,
   "id": "67c6f053-0a6b-4c35-9068-152fc8f5b247",
   "metadata": {},
   "outputs": [
    {
     "data": {
      "text/plain": [
       "0    0\n",
       "1    0\n",
       "2    0\n",
       "3    0\n",
       "4    0\n",
       "Name: target, dtype: int64"
      ]
     },
     "execution_count": 5,
     "metadata": {},
     "output_type": "execute_result"
    }
   ],
   "source": [
    "twitter_data['target'].head()"
   ]
  },
  {
   "cell_type": "markdown",
   "id": "6ead98fa-d84f-49b4-828f-0e54f9264edc",
   "metadata": {},
   "source": [
    "### Splitting of data to train and test"
   ]
  },
  {
   "cell_type": "code",
   "execution_count": 6,
   "id": "84c1d74b-6f59-4e60-bdeb-d4d7ce186894",
   "metadata": {},
   "outputs": [
    {
     "name": "stdout",
     "output_type": "stream",
     "text": [
      "(1280000,) (320000,)\n"
     ]
    }
   ],
   "source": [
    "x = twitter_data['lemmatized_content']\n",
    "y = twitter_data['target'].astype(str)\n",
    "\n",
    "x_train, x_test, y_train, y_test = train_test_split(x, y, test_size=0.2, random_state=2)\n",
    "print(x_train.shape, x_test.shape)"
   ]
  },
  {
   "cell_type": "code",
   "execution_count": 12,
   "id": "54ae8f74-6d13-4f67-bcf2-16ec64255f8b",
   "metadata": {},
   "outputs": [],
   "source": [
    "x_train = x_train.dropna()\n",
    "x_test = x_test.dropna()"
   ]
  },
  {
   "cell_type": "markdown",
   "id": "64afffc9-b721-4667-9c2f-30d23561cacd",
   "metadata": {},
   "source": [
    "### converting textual data into numerical data"
   ]
  },
  {
   "cell_type": "code",
   "execution_count": 13,
   "id": "a03b579f-4be1-45b1-8d04-26879404c869",
   "metadata": {},
   "outputs": [],
   "source": [
    "vectorizer = TfidfVectorizer()\n",
    "x_train = vectorizer.fit_transform(x_train)\n",
    "x_test = vectorizer.transform(x_test)"
   ]
  },
  {
   "cell_type": "code",
   "execution_count": 14,
   "id": "bd857437-e0af-4909-be75-062af78235d5",
   "metadata": {},
   "outputs": [
    {
     "name": "stdout",
     "output_type": "stream",
     "text": [
      "  (0, 33739)\t0.6715878371346845\n",
      "  (0, 141607)\t0.7409249469499299\n",
      "  (1, 261187)\t0.7706162057102356\n",
      "  (1, 473471)\t0.637299508470515\n",
      "  (2, 256060)\t0.6346326748170188\n",
      "  (2, 46210)\t0.22863697802883276\n",
      "  (2, 139734)\t0.2807509282429154\n",
      "  (2, 101506)\t0.16555675370141573\n",
      "  (2, 449676)\t0.29760708766127797\n",
      "  (2, 152980)\t0.22297405047235314\n",
      "  (2, 158891)\t0.17458498775759967\n",
      "  (2, 300173)\t0.48590919379238373\n",
      "  (2, 444025)\t0.18401442757150496\n",
      "  (3, 219349)\t0.530855023120997\n",
      "  (3, 332765)\t0.389868675709373\n",
      "  (3, 194863)\t0.5254505586434566\n",
      "  (3, 481971)\t0.2066430761366257\n",
      "  (3, 9322)\t0.3556518314823692\n",
      "  (3, 308762)\t0.3477175353604331\n",
      "  (4, 494341)\t0.7443914382724511\n",
      "  (4, 325886)\t0.3668806906777518\n",
      "  (4, 339736)\t0.3221720291509442\n",
      "  (4, 450796)\t0.3210222368147889\n",
      "  (4, 246084)\t0.32315608076853536\n",
      "  (5, 101506)\t0.17744381132356482\n",
      "  :\t:\n",
      "  (1279608, 144107)\t0.2632887049800413\n",
      "  (1279608, 488752)\t0.5641557560705639\n",
      "  (1279608, 37214)\t0.41021494489381904\n",
      "  (1279609, 454473)\t0.2648227801531904\n",
      "  (1279609, 147413)\t0.32562739894212056\n",
      "  (1279609, 336232)\t0.29237368691111826\n",
      "  (1279609, 139276)\t0.464501912789988\n",
      "  (1279609, 363072)\t0.7229047602461653\n",
      "  (1279610, 325886)\t0.32012731474369566\n",
      "  (1279610, 382752)\t0.2454945934280019\n",
      "  (1279610, 253009)\t0.18770660236983083\n",
      "  (1279610, 21982)\t0.3020242621067999\n",
      "  (1279610, 295528)\t0.2255787475745476\n",
      "  (1279610, 94368)\t0.32812850617192435\n",
      "  (1279610, 172557)\t0.32219268214815644\n",
      "  (1279610, 293374)\t0.3575921877876543\n",
      "  (1279610, 24281)\t0.566183802631022\n",
      "  (1279611, 444025)\t0.21688464012892508\n",
      "  (1279611, 193256)\t0.23421257771045842\n",
      "  (1279611, 169989)\t0.2819849053625594\n",
      "  (1279611, 136369)\t0.3176883154247042\n",
      "  (1279611, 423028)\t0.3301220743993352\n",
      "  (1279611, 288589)\t0.3123389482824393\n",
      "  (1279611, 31511)\t0.3253904631510266\n",
      "  (1279611, 72569)\t0.6365917157638097\n"
     ]
    }
   ],
   "source": [
    "print(x_train)"
   ]
  },
  {
   "cell_type": "code",
   "execution_count": 15,
   "id": "32ade47e-f16e-4331-a54d-476e853159e8",
   "metadata": {},
   "outputs": [
    {
     "name": "stdout",
     "output_type": "stream",
     "text": [
      "  (0, 6197)\t0.2993959453070914\n",
      "  (0, 57242)\t0.3832879360216848\n",
      "  (0, 163497)\t0.12081187189944378\n",
      "  (0, 193256)\t0.12818965095056176\n",
      "  (0, 238172)\t0.1259619688174248\n",
      "  (0, 293562)\t0.31395022161879976\n",
      "  (0, 302000)\t0.4093945913520039\n",
      "  (0, 321761)\t0.1343460427615613\n",
      "  (0, 337853)\t0.33420343454493046\n",
      "  (0, 342062)\t0.18208405326148835\n",
      "  (0, 360644)\t0.18237371004589922\n",
      "  (0, 401649)\t0.2098396549445486\n",
      "  (0, 418324)\t0.16266182030847864\n",
      "  (0, 447918)\t0.19797842008445246\n",
      "  (0, 462781)\t0.3398080398008447\n",
      "  (0, 482040)\t0.1705202792016399\n",
      "  (1, 32983)\t0.5655550077729987\n",
      "  (1, 168271)\t0.8247105754038099\n",
      "  (2, 42446)\t0.30099827019659486\n",
      "  (2, 46997)\t0.3915203762327569\n",
      "  (2, 330410)\t0.5219744678441565\n",
      "  (2, 372090)\t0.5026140789263611\n",
      "  (2, 415707)\t0.4806595249415467\n",
      "  (3, 62107)\t0.7161216062745414\n",
      "  (3, 236883)\t0.48208503416578746\n",
      "  :\t:\n",
      "  (319889, 143921)\t0.26737274779308406\n",
      "  (319889, 147461)\t0.2926915909370904\n",
      "  (319889, 147530)\t0.3080043927119497\n",
      "  (319889, 351134)\t0.393075708217702\n",
      "  (319889, 386776)\t0.21332628046342694\n",
      "  (319889, 416977)\t0.43790884575500916\n",
      "  (319889, 441541)\t0.47078353038508564\n",
      "  (319889, 452874)\t0.3668226225342379\n",
      "  (319890, 40630)\t0.8082658545538745\n",
      "  (319890, 164035)\t0.2635598886189524\n",
      "  (319890, 288209)\t0.32053505564831125\n",
      "  (319890, 301276)\t0.41773169807185423\n",
      "  (319891, 158891)\t0.26023134932376224\n",
      "  (319891, 193888)\t0.5483103590094742\n",
      "  (319891, 238172)\t0.2910532711572998\n",
      "  (319891, 362646)\t0.7395426886804242\n",
      "  (319892, 35542)\t0.40368919814675747\n",
      "  (319892, 72248)\t0.45796098329761564\n",
      "  (319892, 148482)\t0.3543047441928701\n",
      "  (319892, 198383)\t0.37791355213627414\n",
      "  (319892, 249386)\t0.3147963556110832\n",
      "  (319892, 255706)\t0.29378932092228593\n",
      "  (319892, 324486)\t0.2314427978682358\n",
      "  (319892, 377450)\t0.2661167646094199\n",
      "  (319892, 481410)\t0.22172833094942487\n"
     ]
    }
   ],
   "source": [
    "print(x_test)"
   ]
  },
  {
   "cell_type": "code",
   "execution_count": 30,
   "id": "6e694074-a8a9-46d0-9738-b0d62c09da97",
   "metadata": {},
   "outputs": [
    {
     "name": "stderr",
     "output_type": "stream",
     "text": [
      "warning: in the working copy of '.ipynb_checkpoints/train_model-checkpoint.ipynb', LF will be replaced by CRLF the next time Git touches it\n",
      "warning: in the working copy of 'train_model.ipynb', LF will be replaced by CRLF the next time Git touches it\n"
     ]
    },
    {
     "name": "stdout",
     "output_type": "stream",
     "text": [
      "[main f5da27a] add train_test_split of dataset\n",
      " 2 files changed, 496 insertions(+), 128 deletions(-)\n",
      "branch 'main' set up to track 'origin/main'.\n"
     ]
    },
    {
     "name": "stderr",
     "output_type": "stream",
     "text": [
      "To https://github.com/RevanasiddaNK/Twitter-Sentimental-Analysis.git\n",
      "   bdd896a..f5da27a  main -> main\n"
     ]
    }
   ],
   "source": [
    "!git add .\n",
    "!git commit -m \"add TfidfVectorization\"\n",
    "!git push -u origin main"
   ]
  },
  {
   "cell_type": "code",
   "execution_count": null,
   "id": "a3858775-6182-4ade-89a5-5b47adcfb6fd",
   "metadata": {},
   "outputs": [],
   "source": []
  }
 ],
 "metadata": {
  "kernelspec": {
   "display_name": "Python 3 (ipykernel)",
   "language": "python",
   "name": "python3"
  },
  "language_info": {
   "codemirror_mode": {
    "name": "ipython",
    "version": 3
   },
   "file_extension": ".py",
   "mimetype": "text/x-python",
   "name": "python",
   "nbconvert_exporter": "python",
   "pygments_lexer": "ipython3",
   "version": "3.12.4"
  }
 },
 "nbformat": 4,
 "nbformat_minor": 5
}
