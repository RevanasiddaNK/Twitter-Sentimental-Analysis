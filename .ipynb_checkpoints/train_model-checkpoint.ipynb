{
 "cells": [
  {
   "cell_type": "markdown",
   "id": "9a11dc04-c998-4af7-b577-29fb31a33216",
   "metadata": {},
   "source": [
    "### Importing Dependencies"
   ]
  },
  {
   "cell_type": "code",
   "execution_count": 2,
   "id": "eacd5f3a-2fb2-4b4e-8ea9-8d1f2d05a71b",
   "metadata": {},
   "outputs": [],
   "source": [
    "import numpy as np\n",
    "import pandas as pd\n",
    "import re\n",
    "import nltk\n",
    "#nltk.download(\"stopwords\")\n",
    "from nltk.corpus import stopwords\n",
    "from nltk.stem.porter import PorterStemmer\n",
    "from sklearn.feature_extraction.text import TfidfVectorizer\n",
    "from sklearn.model_selection import train_test_split\n",
    "from sklearn.linear_model import LogisticRegression\n",
    "from sklearn.metrics import accuracy_score"
   ]
  },
  {
   "cell_type": "code",
   "execution_count": 3,
   "id": "3152943d-00bf-440e-a4c4-8d40d1081008",
   "metadata": {},
   "outputs": [
    {
     "data": {
      "text/plain": [
       "'a'"
      ]
     },
     "execution_count": 3,
     "metadata": {},
     "output_type": "execute_result"
    }
   ],
   "source": [
    "stopwords.words(\"english\")[0]"
   ]
  },
  {
   "cell_type": "markdown",
   "id": "32f1a97f-8540-4dab-8dd6-a30b547f367a",
   "metadata": {},
   "source": [
    "### Importing Twitter sentiment dataset"
   ]
  },
  {
   "cell_type": "code",
   "execution_count": 5,
   "id": "c5560a32-36ee-4861-be43-45f06a194625",
   "metadata": {},
   "outputs": [
    {
     "data": {
      "text/plain": [
       "(1600000, 6)"
      ]
     },
     "execution_count": 5,
     "metadata": {},
     "output_type": "execute_result"
    }
   ],
   "source": [
    "column_names = ['target', 'id', 'date', 'flag', 'user', 'text']\n",
    "twitter_data = pd.read_csv('../twitter_data.csv', names=column_names, encoding = 'ISO-8859-1')\n",
    "twitter_data.head()\n",
    "twitter_data.shape"
   ]
  },
  {
   "cell_type": "code",
   "execution_count": 7,
   "id": "4183a19a-b8f2-49c7-9637-902444240909",
   "metadata": {},
   "outputs": [
    {
     "data": {
      "text/plain": [
       "target\n",
       "0    800000\n",
       "4    800000\n",
       "Name: count, dtype: int64"
      ]
     },
     "execution_count": 7,
     "metadata": {},
     "output_type": "execute_result"
    }
   ],
   "source": [
    "twitter_data.isnull().sum()\n",
    "twitter_data['target'].value_counts()"
   ]
  },
  {
   "cell_type": "code",
   "execution_count": 9,
   "id": "d7e5f3b5-1b04-4b45-8f71-4faa2144f09b",
   "metadata": {},
   "outputs": [],
   "source": [
    "#convert target \"4\" to \"1\" which labels positive\n",
    "twitter_data.replace( {'target' : {4:1}}, inplace=True)"
   ]
  },
  {
   "cell_type": "markdown",
   "id": "27f0a3f2-a323-4dc4-8c54-bbbaf2229cc3",
   "metadata": {},
   "source": [
    "##### 1 -> Positive Tweet and 0 -> Negative Tweet"
   ]
  },
  {
   "cell_type": "code",
   "execution_count": null,
   "id": "6e694074-a8a9-46d0-9738-b0d62c09da97",
   "metadata": {},
   "outputs": [],
   "source": [
    "!git add .\n",
    "!git commit -m \"add dataset modifications\"\n",
    "!git push -u origin main"
   ]
  }
 ],
 "metadata": {
  "kernelspec": {
   "display_name": "Python 3 (ipykernel)",
   "language": "python",
   "name": "python3"
  },
  "language_info": {
   "codemirror_mode": {
    "name": "ipython",
    "version": 3
   },
   "file_extension": ".py",
   "mimetype": "text/x-python",
   "name": "python",
   "nbconvert_exporter": "python",
   "pygments_lexer": "ipython3",
   "version": "3.12.4"
  }
 },
 "nbformat": 4,
 "nbformat_minor": 5
}
