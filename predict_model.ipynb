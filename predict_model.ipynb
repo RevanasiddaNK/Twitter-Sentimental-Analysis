{
 "cells": [
  {
   "cell_type": "markdown",
   "id": "38538292-caaa-453c-8524-7ada80b03627",
   "metadata": {},
   "source": [
    "## Load the trained model pipeline (includes TF-IDF + VotingClassifier) and predict_sentiment(texts)"
   ]
  },
  {
   "cell_type": "code",
   "execution_count": 3,
   "id": "9249dcbc-6218-4118-a0ea-64f32b0e9aa1",
   "metadata": {},
   "outputs": [],
   "source": [
    "import joblib\n",
    "\n",
    "# Load the saved model pipeline\n",
    "model_pipeline = joblib.load(\"./model_pipeline.joblib\")\n",
    "\n",
    "# Updated label mapping\n",
    "label_map = {\n",
    "    0: \"Negative Tweet\",\n",
    "    4: \"Positive Tweet\"\n",
    "}\n",
    "\n",
    "def predict_sentiment(texts):\n",
    "    \"\"\"\n",
    "    Predict sentiment (Positive/Negative Tweet) for input text(s).\n",
    "\n",
    "    Parameters:\n",
    "    texts (str or list of str): Input sentence(s)\n",
    "    \"\"\"\n",
    "    if isinstance(texts, str):\n",
    "        texts = [texts]  # Convert single string to list\n",
    "\n",
    "    predictions = model_pipeline.predict(texts)\n",
    "\n",
    "    for text, label in zip(texts, predictions):\n",
    "        sentiment = label_map.get(int(label), f\"Unknown ({label})\")\n",
    "        print(f\"Text: {text}\\nSentiment: {sentiment}\\n\")\n"
   ]
  },
  {
   "cell_type": "code",
   "execution_count": 4,
   "id": "4830d0e0-1637-4b68-88f5-f9d5b1f53c03",
   "metadata": {},
   "outputs": [
    {
     "name": "stdout",
     "output_type": "stream",
     "text": [
      "Text: The movie was absolutely fantastic!\n",
      "Sentiment: Positive Tweet\n",
      "\n",
      "Text: This is the worst product I’ve ever used.\n",
      "Sentiment: Negative Tweet\n",
      "\n",
      "Text: I really enjoyed the experience, would recommend!\n",
      "Sentiment: Positive Tweet\n",
      "\n"
     ]
    }
   ],
   "source": [
    "predict_sentiment(\"The movie was absolutely fantastic!\")\n",
    "\n",
    "predict_sentiment([\n",
    "    \"This is the worst product I’ve ever used.\",\n",
    "    \"I really enjoyed the experience, would recommend!\"\n",
    "])\n"
   ]
  },
  {
   "cell_type": "code",
   "execution_count": null,
   "id": "a7ce34d7-47b9-4ce7-ae8a-8c65c6b0a443",
   "metadata": {},
   "outputs": [],
   "source": []
  }
 ],
 "metadata": {
  "kernelspec": {
   "display_name": "Python 3 (ipykernel)",
   "language": "python",
   "name": "python3"
  },
  "language_info": {
   "codemirror_mode": {
    "name": "ipython",
    "version": 3
   },
   "file_extension": ".py",
   "mimetype": "text/x-python",
   "name": "python",
   "nbconvert_exporter": "python",
   "pygments_lexer": "ipython3",
   "version": "3.12.4"
  }
 },
 "nbformat": 4,
 "nbformat_minor": 5
}
